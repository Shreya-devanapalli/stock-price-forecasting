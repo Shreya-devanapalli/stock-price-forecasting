import pandas as pd
import yfinance as yf
import datetime
from datetime import date, timedelta
import matplotlib.pyplot as plt
import statsmodels.api as sm
from statsmodels.tsa.arima.model import ARIMA
from statsmodels.graphics.tsaplots import plot_acf, plot_pacf
import warnings

# Suppress warnings
warnings.filterwarnings("ignore")

# Get today's date
today = date.today()
d1 = today.strftime("%Y-%m-%d")
end_date = d1

# Get the date 365 days ago
d2 = date.today() - timedelta(days=365)
d2 = d2.strftime("%Y-%m-%d")
start_date = d2

# Download stock data (GOOG) from Yahoo Finance
data = yf.download('GOOG', start=start_date, end=end_date, progress=False)
data["Date"] = data.index
data = data[["Date", "Open", "High", "Low", "Close", "Volume"]]
data.reset_index(drop=True, inplace=True)

# Print the last few rows of the dataset
print(data.tail())

# Use only Date and Close price columns for analysis
data = data[["Date", "Close"]]
print(data.head())

# Plot the closing price of the stock
plt.style.use('fivethirtyeight')
plt.figure(figsize=(15, 10))
plt.plot(data["Date"], data["Close"])
plt.title('GOOG Stock Price (Last 365 days)')
plt.xlabel('Date')
plt.ylabel('Close Price')
plt.show()

# Perform ACF and PACF plots to help identify p, d, q for ARIMA
plot_acf(data["Close"], lags=50)
plot_pacf(data["Close"], lags=50)
plt.show()

# ARIMA Model: p=5, d=1, q=2 (You can adjust these parameters based on ACF/PACF plots)
p, d, q = 5, 1, 2
arima_model = ARIMA(data["Close"], order=(p, d, q))
fitted_arima_model = arima_model.fit()

# Print the summary of the ARIMA model
print(fitted_arima_model.summary())

# SARIMA Model: If you believe the data has seasonal patterns (12 months as a possible seasonal period)
sarima_model = sm.tsa.statespace.SARIMAX(data['Close'],
                                         order=(p, d, q),          # Non-seasonal ARIMA parameters
                                         seasonal_order=(p, d, q, 12))  # Seasonal components (12 months)
fitted_sarima_model = sarima_model.fit()

# Print the summary of the SARIMA model
print(fitted_sarima_model.summary())

# Forecasting using the SARIMA model for the next 10 days (this can be adjusted)
forecast_steps = 10
forecast = fitted_sarima_model.get_forecast(steps=forecast_steps)
forecast_mean = forecast.predicted_mean
forecast_conf_int = forecast.conf_int()

# Plot the forecast
plt.figure(figsize=(12, 6))
plt.plot(data["Date"], data["Close"], label='Historical Data')
plt.plot(pd.date_range(data["Date"].iloc[-1], periods=forecast_steps + 1, freq='D')[1:], forecast_mean, label='Forecast', color='red')
plt.fill_between(pd.date_range(data["Date"].iloc[-1], periods=forecast_steps + 1, freq='D')[1:], forecast_conf_int.iloc[:, 0], forecast_conf_int.iloc[:, 1], color='pink', alpha=0.3)
plt.title('GOOG Stock Price Forecast (SARIMA)')
plt.xlabel('Date')
plt.ylabel('Close Price')
plt.legend()
plt.show()

# Print the forecasted values
print(forecast_mean)
